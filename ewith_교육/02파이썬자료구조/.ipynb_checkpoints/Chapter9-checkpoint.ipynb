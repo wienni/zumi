{
 "cells": [
  {
   "cell_type": "code",
   "execution_count": 2,
   "metadata": {},
   "outputs": [
    {
     "name": "stdout",
     "output_type": "stream",
     "text": [
      "Enter a line of text:\n",
      "file edit view insert cell kernel insert edit edit view edit\n",
      "Words:  ['file', 'edit', 'view', 'insert', 'cell', 'kernel', 'insert', 'edit', 'edit', 'view', 'edit']\n",
      "Counting...\n",
      "Counts {'file': 1, 'edit': 4, 'view': 2, 'insert': 2, 'cell': 1, 'kernel': 1}\n"
     ]
    }
   ],
   "source": [
    "counts = dict()\n",
    "print('Enter a line of text:')\n",
    "line = input('')\n",
    "\n",
    "words = line.split()\n",
    "\n",
    "print('Words: ', words)\n",
    "print('Counting...')\n",
    "for list_cnt in words:\n",
    "    counts[list_cnt] = counts.get(list_cnt,0) + 1\n",
    "print('Counts', counts)"
   ]
  },
  {
   "cell_type": "code",
   "execution_count": 4,
   "metadata": {},
   "outputs": [
    {
     "name": "stdout",
     "output_type": "stream",
     "text": [
      "Enter file name :mbox-short.txt\n",
      "Jan 352\n"
     ]
    }
   ],
   "source": [
    "name = input(\"Enter file name :\")\n",
    "handle = open(name)\n",
    "\n",
    "counts = dict()\n",
    "for line in handle : \n",
    "    words = line.split()\n",
    "    for word in words:\n",
    "        counts[word] = counts.get(word,0) +1\n",
    "\n",
    "bigcount = None\n",
    "bigword = None\n",
    "for word, count in counts.items():\n",
    "    if bigcount is None or count > bigcount:\n",
    "        bigword = word\n",
    "        bigcount = count\n",
    "\n",
    "print(bigword, bigcount)"
   ]
  },
  {
   "cell_type": "code",
   "execution_count": 26,
   "metadata": {},
   "outputs": [
    {
     "name": "stdout",
     "output_type": "stream",
     "text": [
      "Enter file:\n",
      "word: the\n",
      "count: 7\n"
     ]
    }
   ],
   "source": [
    "fname = input('Enter file:')\n",
    "if len(fname) < 1 : \n",
    "    fname  = 'clown.txt'\n",
    "hand = open(fname)\n",
    "\n",
    "di = dict()\n",
    "for lin in hand :\n",
    "    lin = lin.rstrip()\n",
    "    #print(lin)\n",
    "    wds = lin.split()\n",
    "    #print(wds)\n",
    "    for w in wds:\n",
    "        #print(w)\n",
    "        di[w] = di.get(w,0)+1\n",
    "#print(di)\n",
    "\n",
    "largest = -1\n",
    "theword = None\n",
    "for k, v in di.items():\n",
    "    if v > largest :\n",
    "        largest = v\n",
    "        theword = k\n",
    "print('word:',theword)\n",
    "print(\"count:\",largest)"
   ]
  }
 ],
 "metadata": {
  "kernelspec": {
   "display_name": "Python 3",
   "language": "python",
   "name": "python3"
  },
  "language_info": {
   "codemirror_mode": {
    "name": "ipython",
    "version": 3
   },
   "file_extension": ".py",
   "mimetype": "text/x-python",
   "name": "python",
   "nbconvert_exporter": "python",
   "pygments_lexer": "ipython3",
   "version": "3.7.3"
  }
 },
 "nbformat": 4,
 "nbformat_minor": 2
}
